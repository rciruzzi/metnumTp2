{
 "cells": [
  {
   "cell_type": "code",
   "execution_count": 31,
   "metadata": {},
   "outputs": [
    {
     "data": {
      "image/png": "[encoded data removed]",
      "text/plain": [
       "<Figure size 432x288 with 1 Axes>"
      ]
     },
     "metadata": {
      "needs_background": "light"
     },
     "output_type": "display_data"
    }
   ],
   "source": [
    "from matplotlib import pyplot as plt\n",
    "import pandas as pd\n",
    "import numpy as np\n",
    "\n",
    "def graficarHeatmap(valores_reales, predicciones):\n",
    "    df = pd.DataFrame({\"valor\": valores_reales, \"prediccion\": predicciones})\n",
    "    heatmap = []\n",
    "\n",
    "    for i in range(10):\n",
    "        heatmap.append([])\n",
    "        for j in range(10):\n",
    "            filtrado = df[(df.valor == i) & (df.prediccion == j)].groupby(\"valor\").count()\n",
    "            heatmap[i].append(filtrado.values[0][0] if filtrado.values.shape[0] > 0 else 0)\n",
    "    \n",
    "    fig, ax = plt.subplots()\n",
    "    im = ax.imshow(heatmap)\n",
    "\n",
    "    # We want to show all ticks...\n",
    "    ax.set_xticks(np.arange(10))\n",
    "    ax.set_yticks(np.arange(10))\n",
    "    # ... and label them with the respective list entries\n",
    "    ax.set_xticklabels(range(10))\n",
    "    ax.set_yticklabels(range(10))\n",
    "\n",
    "    # Rotate the tick labels and set their alignment.\n",
    "#     plt.setp(ax.get_xticklabels(), rotation=45, ha=\"right\",\n",
    "#              rotation_mode=\"anchor\")\n",
    "\n",
    "    # Loop over data dimensions and create text annotations.\n",
    "#     for i in range(len(vegetables)):\n",
    "#         for j in range(len(farmers)):\n",
    "#             text = ax.text(j, i, harvest[i, j],\n",
    "#                            ha=\"center\", va=\"center\", color=\"w\")\n",
    "\n",
    "    ax.set_title(\"Aciertos por clase\")\n",
    "    fig.tight_layout()\n",
    "    plt.show()\n",
    "graficarHeatmap([1,1,1,1,1,1,1,1,2, 0,0 ,0,0,0,0,0,0,0,0], [1,2,3,3,5,6,7,8,2,0,7, 0,0,0,0,0,0,0,0])\n"
   ]
  }
 ],
 "metadata": {
  "kernelspec": {
   "display_name": "Python 3",
   "language": "python",
   "name": "python3"
  },
  "language_info": {
   "codemirror_mode": {
    "name": "ipython",
    "version": 3
   },
   "file_extension": ".py",
   "mimetype": "text/x-python",
   "name": "python",
   "nbconvert_exporter": "python",
   "pygments_lexer": "ipython3",
   "version": "3.7.5"
  }
 },
 "nbformat": 4,
 "nbformat_minor": 4
}
